{
  "nbformat": 4,
  "nbformat_minor": 0,
  "metadata": {
    "colab": {
      "provenance": []
    },
    "kernelspec": {
      "name": "python3",
      "display_name": "Python 3"
    },
    "language_info": {
      "name": "python"
    }
  },
  "cells": [
    {
      "cell_type": "code",
      "execution_count": null,
      "metadata": {
        "id": "XzXMTaHzZmUj"
      },
      "outputs": [],
      "source": []
    },
    {
      "cell_type": "code",
      "source": [
        "from google.colab import drive\n",
        "drive.mount('/content/drive')"
      ],
      "metadata": {
        "colab": {
          "base_uri": "https://localhost:8080/"
        },
        "id": "D8oyuYDzZyDh",
        "outputId": "629d1a04-9771-4c3a-da53-6c544716fd88"
      },
      "execution_count": 1,
      "outputs": [
        {
          "output_type": "stream",
          "name": "stdout",
          "text": [
            "Mounted at /content/drive\n"
          ]
        }
      ]
    },
    {
      "cell_type": "code",
      "source": [
        "import numpy as np # linear algebra\n",
        "import pandas as pd # dataframes\n",
        "import matplotlib.pyplot as plt # General visualisations\n",
        "import matplotlib.ticker as mtick # Axis visuals\n",
        "import seaborn as sns # Statistical visualisations\n",
        "from math import pi # Radar chart support\n",
        "from sklearn.model_selection import train_test_split, cross_val_score, KFold\n",
        "from sklearn.preprocessing import OneHotEncoder, StandardScaler, MinMaxScaler, FunctionTransformer, LabelEncoder, RobustScaler\n",
        "from sklearn.feature_selection import VarianceThreshold\n",
        "from sklearn.pipeline import Pipeline\n",
        "from sklearn.compose import ColumnTransformer\n",
        "from sklearn.neighbors import KNeighborsClassifier\n",
        "from sklearn.ensemble import RandomForestClassifier, GradientBoostingClassifier\n",
        "from sklearn.metrics import roc_auc_score, f1_score, confusion_matrix \n",
        "\n",
        "roc_auc_score\n",
        "# Load data into pandas\n",
        "df_stru = pd.read_csv(\"csv_building_structure.csv\",\n",
        "                     index_col = 'building_id')\n",
        "\n",
        "# Plot styling\n",
        "plt.style.use('ggplot')"
      ],
      "metadata": {
        "id": "sdJvJ80XZy-S"
      },
      "execution_count": 66,
      "outputs": []
    },
    {
      "cell_type": "code",
      "source": [
        "df_stru.head()"
      ],
      "metadata": {
        "colab": {
          "base_uri": "https://localhost:8080/",
          "height": 417
        },
        "id": "xjWs8N4qaWNI",
        "outputId": "0455424f-9cb0-4469-de26-f639199814dc"
      },
      "execution_count": 67,
      "outputs": [
        {
          "output_type": "execute_result",
          "data": {
            "text/plain": [
              "              district_id  vdcmun_id  ward_id  count_floors_pre_eq  \\\n",
              "building_id                                                          \n",
              "120101000011           12       1207   120703                    1   \n",
              "120101000021           12       1207   120703                    1   \n",
              "120101000031           12       1207   120703                    1   \n",
              "120101000041           12       1207   120703                    1   \n",
              "120101000051           12       1207   120703                    1   \n",
              "\n",
              "              count_floors_post_eq  age_building  plinth_area_sq_ft  \\\n",
              "building_id                                                           \n",
              "120101000011                     1             9                288   \n",
              "120101000021                     1            15                364   \n",
              "120101000031                     1            20                384   \n",
              "120101000041                     1            20                312   \n",
              "120101000051                     1            30                308   \n",
              "\n",
              "              height_ft_pre_eq  height_ft_post_eq land_surface_condition  ...  \\\n",
              "building_id                                                               ...   \n",
              "120101000011                 9                  9                   Flat  ...   \n",
              "120101000021                 9                  9                   Flat  ...   \n",
              "120101000031                 9                  9                   Flat  ...   \n",
              "120101000041                 9                  9                   Flat  ...   \n",
              "120101000051                 9                  9                   Flat  ...   \n",
              "\n",
              "             has_superstructure_mud_mortar_brick  \\\n",
              "building_id                                        \n",
              "120101000011                                   0   \n",
              "120101000021                                   0   \n",
              "120101000031                                   0   \n",
              "120101000041                                   0   \n",
              "120101000051                                   0   \n",
              "\n",
              "             has_superstructure_cement_mortar_brick has_superstructure_timber  \\\n",
              "building_id                                                                     \n",
              "120101000011                                      0                         0   \n",
              "120101000021                                      0                         0   \n",
              "120101000031                                      0                         0   \n",
              "120101000041                                      0                         0   \n",
              "120101000051                                      0                         0   \n",
              "\n",
              "             has_superstructure_bamboo has_superstructure_rc_non_engineered  \\\n",
              "building_id                                                                   \n",
              "120101000011                         1                                    0   \n",
              "120101000021                         1                                    0   \n",
              "120101000031                         0                                    0   \n",
              "120101000041                         0                                    0   \n",
              "120101000051                         0                                    0   \n",
              "\n",
              "             has_superstructure_rc_engineered  has_superstructure_other  \\\n",
              "building_id                                                               \n",
              "120101000011                                0                         0   \n",
              "120101000021                                0                         0   \n",
              "120101000031                                0                         0   \n",
              "120101000041                                0                         0   \n",
              "120101000051                                0                         0   \n",
              "\n",
              "                      condition_post_eq  damage_grade  \\\n",
              "building_id                                             \n",
              "120101000011       Damaged-Used in risk       Grade 3   \n",
              "120101000021  Damaged-Repaired and used       Grade 5   \n",
              "120101000031  Damaged-Repaired and used       Grade 2   \n",
              "120101000041  Damaged-Repaired and used       Grade 2   \n",
              "120101000051  Damaged-Repaired and used       Grade 1   \n",
              "\n",
              "              technical_solution_proposed  \n",
              "building_id                                \n",
              "120101000011                 Major repair  \n",
              "120101000021               Reconstruction  \n",
              "120101000031                 Minor repair  \n",
              "120101000041                 Minor repair  \n",
              "120101000051                 Minor repair  \n",
              "\n",
              "[5 rows x 30 columns]"
            ],
            "text/html": [
              "\n",
              "  <div id=\"df-4bf001e4-8b69-4df3-91bb-d0515569fb84\">\n",
              "    <div class=\"colab-df-container\">\n",
              "      <div>\n",
              "<style scoped>\n",
              "    .dataframe tbody tr th:only-of-type {\n",
              "        vertical-align: middle;\n",
              "    }\n",
              "\n",
              "    .dataframe tbody tr th {\n",
              "        vertical-align: top;\n",
              "    }\n",
              "\n",
              "    .dataframe thead th {\n",
              "        text-align: right;\n",
              "    }\n",
              "</style>\n",
              "<table border=\"1\" class=\"dataframe\">\n",
              "  <thead>\n",
              "    <tr style=\"text-align: right;\">\n",
              "      <th></th>\n",
              "      <th>district_id</th>\n",
              "      <th>vdcmun_id</th>\n",
              "      <th>ward_id</th>\n",
              "      <th>count_floors_pre_eq</th>\n",
              "      <th>count_floors_post_eq</th>\n",
              "      <th>age_building</th>\n",
              "      <th>plinth_area_sq_ft</th>\n",
              "      <th>height_ft_pre_eq</th>\n",
              "      <th>height_ft_post_eq</th>\n",
              "      <th>land_surface_condition</th>\n",
              "      <th>...</th>\n",
              "      <th>has_superstructure_mud_mortar_brick</th>\n",
              "      <th>has_superstructure_cement_mortar_brick</th>\n",
              "      <th>has_superstructure_timber</th>\n",
              "      <th>has_superstructure_bamboo</th>\n",
              "      <th>has_superstructure_rc_non_engineered</th>\n",
              "      <th>has_superstructure_rc_engineered</th>\n",
              "      <th>has_superstructure_other</th>\n",
              "      <th>condition_post_eq</th>\n",
              "      <th>damage_grade</th>\n",
              "      <th>technical_solution_proposed</th>\n",
              "    </tr>\n",
              "    <tr>\n",
              "      <th>building_id</th>\n",
              "      <th></th>\n",
              "      <th></th>\n",
              "      <th></th>\n",
              "      <th></th>\n",
              "      <th></th>\n",
              "      <th></th>\n",
              "      <th></th>\n",
              "      <th></th>\n",
              "      <th></th>\n",
              "      <th></th>\n",
              "      <th></th>\n",
              "      <th></th>\n",
              "      <th></th>\n",
              "      <th></th>\n",
              "      <th></th>\n",
              "      <th></th>\n",
              "      <th></th>\n",
              "      <th></th>\n",
              "      <th></th>\n",
              "      <th></th>\n",
              "      <th></th>\n",
              "    </tr>\n",
              "  </thead>\n",
              "  <tbody>\n",
              "    <tr>\n",
              "      <th>120101000011</th>\n",
              "      <td>12</td>\n",
              "      <td>1207</td>\n",
              "      <td>120703</td>\n",
              "      <td>1</td>\n",
              "      <td>1</td>\n",
              "      <td>9</td>\n",
              "      <td>288</td>\n",
              "      <td>9</td>\n",
              "      <td>9</td>\n",
              "      <td>Flat</td>\n",
              "      <td>...</td>\n",
              "      <td>0</td>\n",
              "      <td>0</td>\n",
              "      <td>0</td>\n",
              "      <td>1</td>\n",
              "      <td>0</td>\n",
              "      <td>0</td>\n",
              "      <td>0</td>\n",
              "      <td>Damaged-Used in risk</td>\n",
              "      <td>Grade 3</td>\n",
              "      <td>Major repair</td>\n",
              "    </tr>\n",
              "    <tr>\n",
              "      <th>120101000021</th>\n",
              "      <td>12</td>\n",
              "      <td>1207</td>\n",
              "      <td>120703</td>\n",
              "      <td>1</td>\n",
              "      <td>1</td>\n",
              "      <td>15</td>\n",
              "      <td>364</td>\n",
              "      <td>9</td>\n",
              "      <td>9</td>\n",
              "      <td>Flat</td>\n",
              "      <td>...</td>\n",
              "      <td>0</td>\n",
              "      <td>0</td>\n",
              "      <td>0</td>\n",
              "      <td>1</td>\n",
              "      <td>0</td>\n",
              "      <td>0</td>\n",
              "      <td>0</td>\n",
              "      <td>Damaged-Repaired and used</td>\n",
              "      <td>Grade 5</td>\n",
              "      <td>Reconstruction</td>\n",
              "    </tr>\n",
              "    <tr>\n",
              "      <th>120101000031</th>\n",
              "      <td>12</td>\n",
              "      <td>1207</td>\n",
              "      <td>120703</td>\n",
              "      <td>1</td>\n",
              "      <td>1</td>\n",
              "      <td>20</td>\n",
              "      <td>384</td>\n",
              "      <td>9</td>\n",
              "      <td>9</td>\n",
              "      <td>Flat</td>\n",
              "      <td>...</td>\n",
              "      <td>0</td>\n",
              "      <td>0</td>\n",
              "      <td>0</td>\n",
              "      <td>0</td>\n",
              "      <td>0</td>\n",
              "      <td>0</td>\n",
              "      <td>0</td>\n",
              "      <td>Damaged-Repaired and used</td>\n",
              "      <td>Grade 2</td>\n",
              "      <td>Minor repair</td>\n",
              "    </tr>\n",
              "    <tr>\n",
              "      <th>120101000041</th>\n",
              "      <td>12</td>\n",
              "      <td>1207</td>\n",
              "      <td>120703</td>\n",
              "      <td>1</td>\n",
              "      <td>1</td>\n",
              "      <td>20</td>\n",
              "      <td>312</td>\n",
              "      <td>9</td>\n",
              "      <td>9</td>\n",
              "      <td>Flat</td>\n",
              "      <td>...</td>\n",
              "      <td>0</td>\n",
              "      <td>0</td>\n",
              "      <td>0</td>\n",
              "      <td>0</td>\n",
              "      <td>0</td>\n",
              "      <td>0</td>\n",
              "      <td>0</td>\n",
              "      <td>Damaged-Repaired and used</td>\n",
              "      <td>Grade 2</td>\n",
              "      <td>Minor repair</td>\n",
              "    </tr>\n",
              "    <tr>\n",
              "      <th>120101000051</th>\n",
              "      <td>12</td>\n",
              "      <td>1207</td>\n",
              "      <td>120703</td>\n",
              "      <td>1</td>\n",
              "      <td>1</td>\n",
              "      <td>30</td>\n",
              "      <td>308</td>\n",
              "      <td>9</td>\n",
              "      <td>9</td>\n",
              "      <td>Flat</td>\n",
              "      <td>...</td>\n",
              "      <td>0</td>\n",
              "      <td>0</td>\n",
              "      <td>0</td>\n",
              "      <td>0</td>\n",
              "      <td>0</td>\n",
              "      <td>0</td>\n",
              "      <td>0</td>\n",
              "      <td>Damaged-Repaired and used</td>\n",
              "      <td>Grade 1</td>\n",
              "      <td>Minor repair</td>\n",
              "    </tr>\n",
              "  </tbody>\n",
              "</table>\n",
              "<p>5 rows × 30 columns</p>\n",
              "</div>\n",
              "      <button class=\"colab-df-convert\" onclick=\"convertToInteractive('df-4bf001e4-8b69-4df3-91bb-d0515569fb84')\"\n",
              "              title=\"Convert this dataframe to an interactive table.\"\n",
              "              style=\"display:none;\">\n",
              "        \n",
              "  <svg xmlns=\"http://www.w3.org/2000/svg\" height=\"24px\"viewBox=\"0 0 24 24\"\n",
              "       width=\"24px\">\n",
              "    <path d=\"M0 0h24v24H0V0z\" fill=\"none\"/>\n",
              "    <path d=\"M18.56 5.44l.94 2.06.94-2.06 2.06-.94-2.06-.94-.94-2.06-.94 2.06-2.06.94zm-11 1L8.5 8.5l.94-2.06 2.06-.94-2.06-.94L8.5 2.5l-.94 2.06-2.06.94zm10 10l.94 2.06.94-2.06 2.06-.94-2.06-.94-.94-2.06-.94 2.06-2.06.94z\"/><path d=\"M17.41 7.96l-1.37-1.37c-.4-.4-.92-.59-1.43-.59-.52 0-1.04.2-1.43.59L10.3 9.45l-7.72 7.72c-.78.78-.78 2.05 0 2.83L4 21.41c.39.39.9.59 1.41.59.51 0 1.02-.2 1.41-.59l7.78-7.78 2.81-2.81c.8-.78.8-2.07 0-2.86zM5.41 20L4 18.59l7.72-7.72 1.47 1.35L5.41 20z\"/>\n",
              "  </svg>\n",
              "      </button>\n",
              "      \n",
              "  <style>\n",
              "    .colab-df-container {\n",
              "      display:flex;\n",
              "      flex-wrap:wrap;\n",
              "      gap: 12px;\n",
              "    }\n",
              "\n",
              "    .colab-df-convert {\n",
              "      background-color: #E8F0FE;\n",
              "      border: none;\n",
              "      border-radius: 50%;\n",
              "      cursor: pointer;\n",
              "      display: none;\n",
              "      fill: #1967D2;\n",
              "      height: 32px;\n",
              "      padding: 0 0 0 0;\n",
              "      width: 32px;\n",
              "    }\n",
              "\n",
              "    .colab-df-convert:hover {\n",
              "      background-color: #E2EBFA;\n",
              "      box-shadow: 0px 1px 2px rgba(60, 64, 67, 0.3), 0px 1px 3px 1px rgba(60, 64, 67, 0.15);\n",
              "      fill: #174EA6;\n",
              "    }\n",
              "\n",
              "    [theme=dark] .colab-df-convert {\n",
              "      background-color: #3B4455;\n",
              "      fill: #D2E3FC;\n",
              "    }\n",
              "\n",
              "    [theme=dark] .colab-df-convert:hover {\n",
              "      background-color: #434B5C;\n",
              "      box-shadow: 0px 1px 3px 1px rgba(0, 0, 0, 0.15);\n",
              "      filter: drop-shadow(0px 1px 2px rgba(0, 0, 0, 0.3));\n",
              "      fill: #FFFFFF;\n",
              "    }\n",
              "  </style>\n",
              "\n",
              "      <script>\n",
              "        const buttonEl =\n",
              "          document.querySelector('#df-4bf001e4-8b69-4df3-91bb-d0515569fb84 button.colab-df-convert');\n",
              "        buttonEl.style.display =\n",
              "          google.colab.kernel.accessAllowed ? 'block' : 'none';\n",
              "\n",
              "        async function convertToInteractive(key) {\n",
              "          const element = document.querySelector('#df-4bf001e4-8b69-4df3-91bb-d0515569fb84');\n",
              "          const dataTable =\n",
              "            await google.colab.kernel.invokeFunction('convertToInteractive',\n",
              "                                                     [key], {});\n",
              "          if (!dataTable) return;\n",
              "\n",
              "          const docLinkHtml = 'Like what you see? Visit the ' +\n",
              "            '<a target=\"_blank\" href=https://colab.research.google.com/notebooks/data_table.ipynb>data table notebook</a>'\n",
              "            + ' to learn more about interactive tables.';\n",
              "          element.innerHTML = '';\n",
              "          dataTable['output_type'] = 'display_data';\n",
              "          await google.colab.output.renderOutput(dataTable, element);\n",
              "          const docLink = document.createElement('div');\n",
              "          docLink.innerHTML = docLinkHtml;\n",
              "          element.appendChild(docLink);\n",
              "        }\n",
              "      </script>\n",
              "    </div>\n",
              "  </div>\n",
              "  "
            ]
          },
          "metadata": {},
          "execution_count": 67
        }
      ]
    },
    {
      "cell_type": "code",
      "source": [
        "display(df_stru.dtypes.value_counts())\n",
        "df_stru.dtypes"
      ],
      "metadata": {
        "colab": {
          "base_uri": "https://localhost:8080/",
          "height": 607
        },
        "id": "jAnekfVdaZPW",
        "outputId": "beab80fc-8afd-4107-95ba-8105303ed40f"
      },
      "execution_count": 68,
      "outputs": [
        {
          "output_type": "display_data",
          "data": {
            "text/plain": [
              "int64     20\n",
              "object    10\n",
              "dtype: int64"
            ]
          },
          "metadata": {}
        },
        {
          "output_type": "execute_result",
          "data": {
            "text/plain": [
              "district_id                                int64\n",
              "vdcmun_id                                  int64\n",
              "ward_id                                    int64\n",
              "count_floors_pre_eq                        int64\n",
              "count_floors_post_eq                       int64\n",
              "age_building                               int64\n",
              "plinth_area_sq_ft                          int64\n",
              "height_ft_pre_eq                           int64\n",
              "height_ft_post_eq                          int64\n",
              "land_surface_condition                    object\n",
              "foundation_type                           object\n",
              "roof_type                                 object\n",
              "ground_floor_type                         object\n",
              "other_floor_type                          object\n",
              "position                                  object\n",
              "plan_configuration                        object\n",
              "has_superstructure_adobe_mud               int64\n",
              "has_superstructure_mud_mortar_stone        int64\n",
              "has_superstructure_stone_flag              int64\n",
              "has_superstructure_cement_mortar_stone     int64\n",
              "has_superstructure_mud_mortar_brick        int64\n",
              "has_superstructure_cement_mortar_brick     int64\n",
              "has_superstructure_timber                  int64\n",
              "has_superstructure_bamboo                  int64\n",
              "has_superstructure_rc_non_engineered       int64\n",
              "has_superstructure_rc_engineered           int64\n",
              "has_superstructure_other                   int64\n",
              "condition_post_eq                         object\n",
              "damage_grade                              object\n",
              "technical_solution_proposed               object\n",
              "dtype: object"
            ]
          },
          "metadata": {},
          "execution_count": 68
        }
      ]
    },
    {
      "cell_type": "code",
      "source": [
        "df_stru.shape"
      ],
      "metadata": {
        "colab": {
          "base_uri": "https://localhost:8080/"
        },
        "id": "gqhaOwrna5zJ",
        "outputId": "7ad47653-e488-4d79-e4a4-d7a5439c046b"
      },
      "execution_count": 69,
      "outputs": [
        {
          "output_type": "execute_result",
          "data": {
            "text/plain": [
              "(762106, 30)"
            ]
          },
          "metadata": {},
          "execution_count": 69
        }
      ]
    },
    {
      "cell_type": "code",
      "source": [
        "df_stru = df_stru.astype({'district_id': 'object', 'vdcmun_id': 'object', 'ward_id': 'object'})"
      ],
      "metadata": {
        "id": "twaK_Sz4asC2"
      },
      "execution_count": 70,
      "outputs": []
    },
    {
      "cell_type": "code",
      "source": [
        "# View missingness\n",
        "df_temp = df_stru.isnull().sum().reset_index(name='count')\n",
        "display(df_temp[df_temp['count'] > 0])\n",
        "\n",
        "# Drop Rows with missing data\n",
        "df_stru.dropna(inplace = True)"
      ],
      "metadata": {
        "colab": {
          "base_uri": "https://localhost:8080/",
          "height": 175
        },
        "id": "C8mLNnFfbB7F",
        "outputId": "6b60ad7c-059a-44f4-dcf7-dc3807699c4b"
      },
      "execution_count": 71,
      "outputs": [
        {
          "output_type": "display_data",
          "data": {
            "text/plain": [
              "                          index  count\n",
              "14                     position      1\n",
              "15           plan_configuration      1\n",
              "28                 damage_grade     12\n",
              "29  technical_solution_proposed     12"
            ],
            "text/html": [
              "\n",
              "  <div id=\"df-0a2421b9-d16b-47a3-af49-e143ff654b51\">\n",
              "    <div class=\"colab-df-container\">\n",
              "      <div>\n",
              "<style scoped>\n",
              "    .dataframe tbody tr th:only-of-type {\n",
              "        vertical-align: middle;\n",
              "    }\n",
              "\n",
              "    .dataframe tbody tr th {\n",
              "        vertical-align: top;\n",
              "    }\n",
              "\n",
              "    .dataframe thead th {\n",
              "        text-align: right;\n",
              "    }\n",
              "</style>\n",
              "<table border=\"1\" class=\"dataframe\">\n",
              "  <thead>\n",
              "    <tr style=\"text-align: right;\">\n",
              "      <th></th>\n",
              "      <th>index</th>\n",
              "      <th>count</th>\n",
              "    </tr>\n",
              "  </thead>\n",
              "  <tbody>\n",
              "    <tr>\n",
              "      <th>14</th>\n",
              "      <td>position</td>\n",
              "      <td>1</td>\n",
              "    </tr>\n",
              "    <tr>\n",
              "      <th>15</th>\n",
              "      <td>plan_configuration</td>\n",
              "      <td>1</td>\n",
              "    </tr>\n",
              "    <tr>\n",
              "      <th>28</th>\n",
              "      <td>damage_grade</td>\n",
              "      <td>12</td>\n",
              "    </tr>\n",
              "    <tr>\n",
              "      <th>29</th>\n",
              "      <td>technical_solution_proposed</td>\n",
              "      <td>12</td>\n",
              "    </tr>\n",
              "  </tbody>\n",
              "</table>\n",
              "</div>\n",
              "      <button class=\"colab-df-convert\" onclick=\"convertToInteractive('df-0a2421b9-d16b-47a3-af49-e143ff654b51')\"\n",
              "              title=\"Convert this dataframe to an interactive table.\"\n",
              "              style=\"display:none;\">\n",
              "        \n",
              "  <svg xmlns=\"http://www.w3.org/2000/svg\" height=\"24px\"viewBox=\"0 0 24 24\"\n",
              "       width=\"24px\">\n",
              "    <path d=\"M0 0h24v24H0V0z\" fill=\"none\"/>\n",
              "    <path d=\"M18.56 5.44l.94 2.06.94-2.06 2.06-.94-2.06-.94-.94-2.06-.94 2.06-2.06.94zm-11 1L8.5 8.5l.94-2.06 2.06-.94-2.06-.94L8.5 2.5l-.94 2.06-2.06.94zm10 10l.94 2.06.94-2.06 2.06-.94-2.06-.94-.94-2.06-.94 2.06-2.06.94z\"/><path d=\"M17.41 7.96l-1.37-1.37c-.4-.4-.92-.59-1.43-.59-.52 0-1.04.2-1.43.59L10.3 9.45l-7.72 7.72c-.78.78-.78 2.05 0 2.83L4 21.41c.39.39.9.59 1.41.59.51 0 1.02-.2 1.41-.59l7.78-7.78 2.81-2.81c.8-.78.8-2.07 0-2.86zM5.41 20L4 18.59l7.72-7.72 1.47 1.35L5.41 20z\"/>\n",
              "  </svg>\n",
              "      </button>\n",
              "      \n",
              "  <style>\n",
              "    .colab-df-container {\n",
              "      display:flex;\n",
              "      flex-wrap:wrap;\n",
              "      gap: 12px;\n",
              "    }\n",
              "\n",
              "    .colab-df-convert {\n",
              "      background-color: #E8F0FE;\n",
              "      border: none;\n",
              "      border-radius: 50%;\n",
              "      cursor: pointer;\n",
              "      display: none;\n",
              "      fill: #1967D2;\n",
              "      height: 32px;\n",
              "      padding: 0 0 0 0;\n",
              "      width: 32px;\n",
              "    }\n",
              "\n",
              "    .colab-df-convert:hover {\n",
              "      background-color: #E2EBFA;\n",
              "      box-shadow: 0px 1px 2px rgba(60, 64, 67, 0.3), 0px 1px 3px 1px rgba(60, 64, 67, 0.15);\n",
              "      fill: #174EA6;\n",
              "    }\n",
              "\n",
              "    [theme=dark] .colab-df-convert {\n",
              "      background-color: #3B4455;\n",
              "      fill: #D2E3FC;\n",
              "    }\n",
              "\n",
              "    [theme=dark] .colab-df-convert:hover {\n",
              "      background-color: #434B5C;\n",
              "      box-shadow: 0px 1px 3px 1px rgba(0, 0, 0, 0.15);\n",
              "      filter: drop-shadow(0px 1px 2px rgba(0, 0, 0, 0.3));\n",
              "      fill: #FFFFFF;\n",
              "    }\n",
              "  </style>\n",
              "\n",
              "      <script>\n",
              "        const buttonEl =\n",
              "          document.querySelector('#df-0a2421b9-d16b-47a3-af49-e143ff654b51 button.colab-df-convert');\n",
              "        buttonEl.style.display =\n",
              "          google.colab.kernel.accessAllowed ? 'block' : 'none';\n",
              "\n",
              "        async function convertToInteractive(key) {\n",
              "          const element = document.querySelector('#df-0a2421b9-d16b-47a3-af49-e143ff654b51');\n",
              "          const dataTable =\n",
              "            await google.colab.kernel.invokeFunction('convertToInteractive',\n",
              "                                                     [key], {});\n",
              "          if (!dataTable) return;\n",
              "\n",
              "          const docLinkHtml = 'Like what you see? Visit the ' +\n",
              "            '<a target=\"_blank\" href=https://colab.research.google.com/notebooks/data_table.ipynb>data table notebook</a>'\n",
              "            + ' to learn more about interactive tables.';\n",
              "          element.innerHTML = '';\n",
              "          dataTable['output_type'] = 'display_data';\n",
              "          await google.colab.output.renderOutput(dataTable, element);\n",
              "          const docLink = document.createElement('div');\n",
              "          docLink.innerHTML = docLinkHtml;\n",
              "          element.appendChild(docLink);\n",
              "        }\n",
              "      </script>\n",
              "    </div>\n",
              "  </div>\n",
              "  "
            ]
          },
          "metadata": {}
        }
      ]
    },
    {
      "cell_type": "code",
      "source": [
        "plt.figure(figsize=(12,5))\n",
        "ax = sns.countplot(x='damage_grade', data=df_stru, order = ['Grade 1', 'Grade 2', 'Grade 3', 'Grade 4', 'Grade 5'])\n",
        "ax.yaxis.set_major_formatter(mtick.StrMethodFormatter('{x:,.0f}'))\n",
        "plt.title(\"Distribution of Damage Grade\")\n",
        "plt.xlabel(\"Damage Grading\")\n",
        "plt.show()"
      ],
      "metadata": {
        "colab": {
          "base_uri": "https://localhost:8080/",
          "height": 354
        },
        "id": "sROKAfrFbGf-",
        "outputId": "47e1ae43-6f51-4c96-8f9a-53590a95c1c1"
      },
      "execution_count": 72,
      "outputs": [
        {
          "output_type": "display_data",
          "data": {
            "text/plain": [
              "<Figure size 864x360 with 1 Axes>"
            ],
            "image/png": "[encoded data removed]"
          },
          "metadata": {}
        }
      ]
    },
    {
      "cell_type": "code",
      "source": [
        "# view Names\n",
        "df_stru.select_dtypes(include=object).dtypes # Data types"
      ],
      "metadata": {
        "colab": {
          "base_uri": "https://localhost:8080/"
        },
        "id": "socpukHCbmep",
        "outputId": "731b7035-6ca4-4fde-9b37-e808e98b20af"
      },
      "execution_count": 73,
      "outputs": [
        {
          "output_type": "execute_result",
          "data": {
            "text/plain": [
              "district_id                    object\n",
              "vdcmun_id                      object\n",
              "ward_id                        object\n",
              "land_surface_condition         object\n",
              "foundation_type                object\n",
              "roof_type                      object\n",
              "ground_floor_type              object\n",
              "other_floor_type               object\n",
              "position                       object\n",
              "plan_configuration             object\n",
              "condition_post_eq              object\n",
              "damage_grade                   object\n",
              "technical_solution_proposed    object\n",
              "dtype: object"
            ]
          },
          "metadata": {},
          "execution_count": 73
        }
      ]
    },
    {
      "cell_type": "code",
      "source": [
        "# Calculate counts\n",
        "df_temp = df_stru.groupby(['district_id','damage_grade']).size().reset_index(name='count')\n",
        "\n",
        "# Set Index\n",
        "df_temp = df_temp.set_index(['district_id', 'damage_grade'])\n",
        "\n",
        "# Calculate Proportion of grade\n",
        "df_temp = df_temp.groupby(level=0).apply(lambda x: 100 * x / float(x.sum())).reset_index()\n",
        "\n",
        "# Pivot table\n",
        "df_temp = pd.pivot_table(df_temp, values='count', index=['district_id'], columns='damage_grade')\n",
        "\n",
        "# Plot char\n",
        "plt.figure(figsize=(12,5))\n",
        "ax = sns.heatmap(data = df_temp, annot = True )\n",
        "plt.xticks(rotation = 50)\n",
        "ax.legend(loc='center left', bbox_to_anchor=(1, 0.5), ncol=1)\n",
        "plt.title(\"Distribution of Damage Grade by District\")\n",
        "plt.xlabel(\"Damage Grade\")\n",
        "plt.ylabel(\"District\")\n",
        "plt.show()\n",
        "\n",
        "# Clean up\n",
        "del df_temp, ax"
      ],
      "metadata": {
        "colab": {
          "base_uri": "https://localhost:8080/",
          "height": 418
        },
        "id": "2TW1sjnwbqzV",
        "outputId": "58cc0401-af67-473f-8a7c-027db94ced7f"
      },
      "execution_count": 74,
      "outputs": [
        {
          "output_type": "stream",
          "name": "stderr",
          "text": [
            "WARNING:matplotlib.legend:No artists with labels found to put in legend.  Note that artists whose label start with an underscore are ignored when legend() is called with no argument.\n"
          ]
        },
        {
          "output_type": "display_data",
          "data": {
            "text/plain": [
              "<Figure size 864x360 with 2 Axes>"
            ],
            "image/png": "[encoded data removed]"
          },
          "metadata": {}
        }
      ]
    },
    {
      "cell_type": "code",
      "source": [
        "# Calculate counts\n",
        "df_temp = df_stru.groupby(['land_surface_condition','damage_grade']).size().reset_index(name='count')\n",
        "\n",
        "# Set Index\n",
        "df_temp = df_temp.set_index(['land_surface_condition', 'damage_grade'])\n",
        "\n",
        "# Calculate Proportion of grade\n",
        "df_temp = df_temp.groupby(level=0).apply(lambda x: 100 * x / float(x.sum())).reset_index()\n",
        "\n",
        "# Plot chart\n",
        "plt.figure(figsize=(12,5))\n",
        "ax = sns.barplot(data = df_temp, \n",
        "                 x = 'land_surface_condition', \n",
        "                 y = 'count', \n",
        "                 hue = 'damage_grade')\n",
        "ax.yaxis.set_major_formatter(mtick.PercentFormatter())\n",
        "ax.legend(loc='center left', bbox_to_anchor=(1, 0.5), ncol=1)\n",
        "plt.title(\"Distribution of Damage Grade by Land Surface Type\")\n",
        "plt.xlabel(\"Land Surface Condition\")\n",
        "plt.ylabel(\"Percentage of Buildings\")\n",
        "plt.show()\n",
        "\n",
        "# Clean up\n",
        "del df_temp, ax"
      ],
      "metadata": {
        "colab": {
          "base_uri": "https://localhost:8080/",
          "height": 354
        },
        "id": "kyextJUibvFt",
        "outputId": "ed406b38-b817-4f79-e78a-12c04c415e10"
      },
      "execution_count": 75,
      "outputs": [
        {
          "output_type": "display_data",
          "data": {
            "text/plain": [
              "<Figure size 864x360 with 1 Axes>"
            ],
            "image/png": "[encoded data removed]"
          },
          "metadata": {}
        }
      ]
    },
    {
      "cell_type": "code",
      "source": [
        "df_stru.foundation_type.value_counts()"
      ],
      "metadata": {
        "colab": {
          "base_uri": "https://localhost:8080/"
        },
        "id": "vRMTvjlzbzrN",
        "outputId": "bad12efa-1d64-4ef7-ee60-1d09d3ac1094"
      },
      "execution_count": 76,
      "outputs": [
        {
          "output_type": "execute_result",
          "data": {
            "text/plain": [
              "Mud mortar-Stone/Brick    628705\n",
              "Bamboo/Timber              57472\n",
              "Cement-Stone/Brick         39245\n",
              "RC                         32120\n",
              "Other                       4552\n",
              "Name: foundation_type, dtype: int64"
            ]
          },
          "metadata": {},
          "execution_count": 76
        }
      ]
    },
    {
      "cell_type": "code",
      "source": [
        "# Calculate counts\n",
        "df_temp = df_stru.groupby(['foundation_type','damage_grade']).size().reset_index(name='count')\n",
        "\n",
        "# Set Index\n",
        "df_temp = df_temp.set_index(['foundation_type', 'damage_grade'])\n",
        "\n",
        "# Calculate Proportion of grade\n",
        "df_temp = df_temp.groupby(level=0).apply(lambda x: 100 * x / float(x.sum())).reset_index()\n",
        "\n",
        "# Plot chart\n",
        "plt.figure(figsize=(12,5))\n",
        "ax = sns.barplot(data = df_temp, \n",
        "                 x = 'foundation_type', \n",
        "                 y = 'count', \n",
        "                 hue = 'damage_grade')\n",
        "ax.yaxis.set_major_formatter(mtick.PercentFormatter())\n",
        "plt.xticks(rotation = 50)\n",
        "ax.legend(loc='center left', bbox_to_anchor=(1, 0.5), ncol=1)\n",
        "plt.title(\"Distribution of Damage Grade by Foundation Type\")\n",
        "plt.xlabel(\"Foundation Type\")\n",
        "plt.ylabel(\"Percentage of Buildings\")\n",
        "plt.show()\n",
        "\n",
        "# Clean up\n",
        "del df_temp, ax"
      ],
      "metadata": {
        "colab": {
          "base_uri": "https://localhost:8080/",
          "height": 441
        },
        "id": "I-OM07DFb3OW",
        "outputId": "2ac2da6b-0ce8-42e5-9783-49e890d8659a"
      },
      "execution_count": 77,
      "outputs": [
        {
          "output_type": "display_data",
          "data": {
            "text/plain": [
              "<Figure size 864x360 with 1 Axes>"
            ],
            "image/png": "[encoded data removed]"
          },
          "metadata": {}
        }
      ]
    },
    {
      "cell_type": "code",
      "source": [
        "plt.figure(figsize = (12,6))\n",
        "ax = df_stru.roof_type.value_counts().plot(kind = \"bar\")\n",
        "plt.title(\"Number of Buildings by Roof Type\")\n",
        "plt.show()"
      ],
      "metadata": {
        "colab": {
          "base_uri": "https://localhost:8080/",
          "height": 517
        },
        "id": "tGnDcwryb6G2",
        "outputId": "216e14c0-4142-4ecb-978f-e63d7310e2a9"
      },
      "execution_count": 78,
      "outputs": [
        {
          "output_type": "display_data",
          "data": {
            "text/plain": [
              "<Figure size 864x432 with 1 Axes>"
            ],
            "image/png": "[encoded data removed]"
          },
          "metadata": {}
        }
      ]
    },
    {
      "cell_type": "code",
      "source": [
        "# Calculate counts\n",
        "df_temp = df_stru.groupby(['roof_type','damage_grade']).size().reset_index(name='count')\n",
        "\n",
        "# Set Index\n",
        "df_temp = df_temp.set_index(['roof_type', 'damage_grade'])\n",
        "\n",
        "# Calculate Proportion of grade\n",
        "df_temp = df_temp.groupby(level=0).apply(lambda x: 100 * x / float(x.sum())).reset_index()\n",
        "\n",
        "# Pivot table\n",
        "df_temp = pd.pivot_table(df_temp, values='count', index=['roof_type'], columns='damage_grade')\n",
        "\n",
        "# Plot char\n",
        "plt.figure(figsize=(12,5))\n",
        "ax = sns.heatmap(data = df_temp, annot = True )\n",
        "plt.xticks(rotation = 50)\n",
        "ax.legend(loc='center left', bbox_to_anchor=(1, 0.5), ncol=1)\n",
        "plt.title(\"Distribution of Damage Grade by Roof Type\")\n",
        "plt.xlabel(\"Damage Grade\")\n",
        "plt.ylabel(\"Roof Type\")\n",
        "plt.show()\n",
        "\n",
        "# Clean up\n",
        "del df_temp, ax"
      ],
      "metadata": {
        "colab": {
          "base_uri": "https://localhost:8080/",
          "height": 418
        },
        "id": "HN8mN3_Fb84W",
        "outputId": "36b78920-a800-41b3-cb0b-f1c0b6e67f48"
      },
      "execution_count": 79,
      "outputs": [
        {
          "output_type": "stream",
          "name": "stderr",
          "text": [
            "WARNING:matplotlib.legend:No artists with labels found to put in legend.  Note that artists whose label start with an underscore are ignored when legend() is called with no argument.\n"
          ]
        },
        {
          "output_type": "display_data",
          "data": {
            "text/plain": [
              "<Figure size 864x360 with 2 Axes>"
            ],
            "image/png": "[encoded data removed]"
          },
          "metadata": {}
        }
      ]
    },
    {
      "cell_type": "code",
      "source": [
        "# view Names\n",
        "df_stru.select_dtypes(include=[float, int]).dtypes # Data types"
      ],
      "metadata": {
        "colab": {
          "base_uri": "https://localhost:8080/"
        },
        "id": "AgCMrKjLb_v2",
        "outputId": "00644963-89b0-4b6e-f98a-344cfc49bba4"
      },
      "execution_count": 80,
      "outputs": [
        {
          "output_type": "execute_result",
          "data": {
            "text/plain": [
              "count_floors_pre_eq                       int64\n",
              "count_floors_post_eq                      int64\n",
              "age_building                              int64\n",
              "plinth_area_sq_ft                         int64\n",
              "height_ft_pre_eq                          int64\n",
              "height_ft_post_eq                         int64\n",
              "has_superstructure_adobe_mud              int64\n",
              "has_superstructure_mud_mortar_stone       int64\n",
              "has_superstructure_stone_flag             int64\n",
              "has_superstructure_cement_mortar_stone    int64\n",
              "has_superstructure_mud_mortar_brick       int64\n",
              "has_superstructure_cement_mortar_brick    int64\n",
              "has_superstructure_timber                 int64\n",
              "has_superstructure_bamboo                 int64\n",
              "has_superstructure_rc_non_engineered      int64\n",
              "has_superstructure_rc_engineered          int64\n",
              "has_superstructure_other                  int64\n",
              "dtype: object"
            ]
          },
          "metadata": {},
          "execution_count": 80
        }
      ]
    },
    {
      "cell_type": "code",
      "source": [
        "# Describe the \n",
        "df_stru.describe().transpose().drop('count', axis=1)"
      ],
      "metadata": {
        "colab": {
          "base_uri": "https://localhost:8080/",
          "height": 582
        },
        "id": "F-dbUJsXcCbV",
        "outputId": "f75f8d89-f802-4796-ad95-839a8c925abf"
      },
      "execution_count": 81,
      "outputs": [
        {
          "output_type": "execute_result",
          "data": {
            "text/plain": [
              "                                              mean         std   min    25%  \\\n",
              "count_floors_pre_eq                       2.087787    0.655104   1.0    2.0   \n",
              "count_floors_post_eq                      1.252050    1.063278   0.0    0.0   \n",
              "age_building                             24.325031   65.034555   0.0    9.0   \n",
              "plinth_area_sq_ft                       406.673668  226.780437  70.0  280.0   \n",
              "height_ft_pre_eq                         16.049424    5.493900   6.0   12.0   \n",
              "height_ft_post_eq                         9.868785    8.574218   0.0    0.0   \n",
              "has_superstructure_adobe_mud              0.042402    0.201504   0.0    0.0   \n",
              "has_superstructure_mud_mortar_stone       0.800269    0.399799   0.0    1.0   \n",
              "has_superstructure_stone_flag             0.035122    0.184087   0.0    0.0   \n",
              "has_superstructure_cement_mortar_stone    0.015816    0.124762   0.0    0.0   \n",
              "has_superstructure_mud_mortar_brick       0.022962    0.149782   0.0    0.0   \n",
              "has_superstructure_cement_mortar_brick    0.071527    0.257703   0.0    0.0   \n",
              "has_superstructure_timber                 0.258770    0.437959   0.0    0.0   \n",
              "has_superstructure_bamboo                 0.080484    0.272040   0.0    0.0   \n",
              "has_superstructure_rc_non_engineered      0.039794    0.195476   0.0    0.0   \n",
              "has_superstructure_rc_engineered          0.016386    0.126956   0.0    0.0   \n",
              "has_superstructure_other                  0.012026    0.109002   0.0    0.0   \n",
              "\n",
              "                                          50%    75%     max  \n",
              "count_floors_pre_eq                       2.0    2.0     9.0  \n",
              "count_floors_post_eq                      1.0    2.0     9.0  \n",
              "age_building                             16.0   27.0   999.0  \n",
              "plinth_area_sq_ft                       358.0  470.0  5000.0  \n",
              "height_ft_pre_eq                         16.0   18.0    99.0  \n",
              "height_ft_post_eq                        11.0   16.0    99.0  \n",
              "has_superstructure_adobe_mud              0.0    0.0     1.0  \n",
              "has_superstructure_mud_mortar_stone       1.0    1.0     1.0  \n",
              "has_superstructure_stone_flag             0.0    0.0     1.0  \n",
              "has_superstructure_cement_mortar_stone    0.0    0.0     1.0  \n",
              "has_superstructure_mud_mortar_brick       0.0    0.0     1.0  \n",
              "has_superstructure_cement_mortar_brick    0.0    0.0     1.0  \n",
              "has_superstructure_timber                 0.0    1.0     1.0  \n",
              "has_superstructure_bamboo                 0.0    0.0     1.0  \n",
              "has_superstructure_rc_non_engineered      0.0    0.0     1.0  \n",
              "has_superstructure_rc_engineered          0.0    0.0     1.0  \n",
              "has_superstructure_other                  0.0    0.0     1.0  "
            ],
            "text/html": [
              "\n",
              "  <div id=\"df-13601be2-0b40-4f1b-a315-ea89b4500db6\">\n",
              "    <div class=\"colab-df-container\">\n",
              "      <div>\n",
              "<style scoped>\n",
              "    .dataframe tbody tr th:only-of-type {\n",
              "        vertical-align: middle;\n",
              "    }\n",
              "\n",
              "    .dataframe tbody tr th {\n",
              "        vertical-align: top;\n",
              "    }\n",
              "\n",
              "    .dataframe thead th {\n",
              "        text-align: right;\n",
              "    }\n",
              "</style>\n",
              "<table border=\"1\" class=\"dataframe\">\n",
              "  <thead>\n",
              "    <tr style=\"text-align: right;\">\n",
              "      <th></th>\n",
              "      <th>mean</th>\n",
              "      <th>std</th>\n",
              "      <th>min</th>\n",
              "      <th>25%</th>\n",
              "      <th>50%</th>\n",
              "      <th>75%</th>\n",
              "      <th>max</th>\n",
              "    </tr>\n",
              "  </thead>\n",
              "  <tbody>\n",
              "    <tr>\n",
              "      <th>count_floors_pre_eq</th>\n",
              "      <td>2.087787</td>\n",
              "      <td>0.655104</td>\n",
              "      <td>1.0</td>\n",
              "      <td>2.0</td>\n",
              "      <td>2.0</td>\n",
              "      <td>2.0</td>\n",
              "      <td>9.0</td>\n",
              "    </tr>\n",
              "    <tr>\n",
              "      <th>count_floors_post_eq</th>\n",
              "      <td>1.252050</td>\n",
              "      <td>1.063278</td>\n",
              "      <td>0.0</td>\n",
              "      <td>0.0</td>\n",
              "      <td>1.0</td>\n",
              "      <td>2.0</td>\n",
              "      <td>9.0</td>\n",
              "    </tr>\n",
              "    <tr>\n",
              "      <th>age_building</th>\n",
              "      <td>24.325031</td>\n",
              "      <td>65.034555</td>\n",
              "      <td>0.0</td>\n",
              "      <td>9.0</td>\n",
              "      <td>16.0</td>\n",
              "      <td>27.0</td>\n",
              "      <td>999.0</td>\n",
              "    </tr>\n",
              "    <tr>\n",
              "      <th>plinth_area_sq_ft</th>\n",
              "      <td>406.673668</td>\n",
              "      <td>226.780437</td>\n",
              "      <td>70.0</td>\n",
              "      <td>280.0</td>\n",
              "      <td>358.0</td>\n",
              "      <td>470.0</td>\n",
              "      <td>5000.0</td>\n",
              "    </tr>\n",
              "    <tr>\n",
              "      <th>height_ft_pre_eq</th>\n",
              "      <td>16.049424</td>\n",
              "      <td>5.493900</td>\n",
              "      <td>6.0</td>\n",
              "      <td>12.0</td>\n",
              "      <td>16.0</td>\n",
              "      <td>18.0</td>\n",
              "      <td>99.0</td>\n",
              "    </tr>\n",
              "    <tr>\n",
              "      <th>height_ft_post_eq</th>\n",
              "      <td>9.868785</td>\n",
              "      <td>8.574218</td>\n",
              "      <td>0.0</td>\n",
              "      <td>0.0</td>\n",
              "      <td>11.0</td>\n",
              "      <td>16.0</td>\n",
              "      <td>99.0</td>\n",
              "    </tr>\n",
              "    <tr>\n",
              "      <th>has_superstructure_adobe_mud</th>\n",
              "      <td>0.042402</td>\n",
              "      <td>0.201504</td>\n",
              "      <td>0.0</td>\n",
              "      <td>0.0</td>\n",
              "      <td>0.0</td>\n",
              "      <td>0.0</td>\n",
              "      <td>1.0</td>\n",
              "    </tr>\n",
              "    <tr>\n",
              "      <th>has_superstructure_mud_mortar_stone</th>\n",
              "      <td>0.800269</td>\n",
              "      <td>0.399799</td>\n",
              "      <td>0.0</td>\n",
              "      <td>1.0</td>\n",
              "      <td>1.0</td>\n",
              "      <td>1.0</td>\n",
              "      <td>1.0</td>\n",
              "    </tr>\n",
              "    <tr>\n",
              "      <th>has_superstructure_stone_flag</th>\n",
              "      <td>0.035122</td>\n",
              "      <td>0.184087</td>\n",
              "      <td>0.0</td>\n",
              "      <td>0.0</td>\n",
              "      <td>0.0</td>\n",
              "      <td>0.0</td>\n",
              "      <td>1.0</td>\n",
              "    </tr>\n",
              "    <tr>\n",
              "      <th>has_superstructure_cement_mortar_stone</th>\n",
              "      <td>0.015816</td>\n",
              "      <td>0.124762</td>\n",
              "      <td>0.0</td>\n",
              "      <td>0.0</td>\n",
              "      <td>0.0</td>\n",
              "      <td>0.0</td>\n",
              "      <td>1.0</td>\n",
              "    </tr>\n",
              "    <tr>\n",
              "      <th>has_superstructure_mud_mortar_brick</th>\n",
              "      <td>0.022962</td>\n",
              "      <td>0.149782</td>\n",
              "      <td>0.0</td>\n",
              "      <td>0.0</td>\n",
              "      <td>0.0</td>\n",
              "      <td>0.0</td>\n",
              "      <td>1.0</td>\n",
              "    </tr>\n",
              "    <tr>\n",
              "      <th>has_superstructure_cement_mortar_brick</th>\n",
              "      <td>0.071527</td>\n",
              "      <td>0.257703</td>\n",
              "      <td>0.0</td>\n",
              "      <td>0.0</td>\n",
              "      <td>0.0</td>\n",
              "      <td>0.0</td>\n",
              "      <td>1.0</td>\n",
              "    </tr>\n",
              "    <tr>\n",
              "      <th>has_superstructure_timber</th>\n",
              "      <td>0.258770</td>\n",
              "      <td>0.437959</td>\n",
              "      <td>0.0</td>\n",
              "      <td>0.0</td>\n",
              "      <td>0.0</td>\n",
              "      <td>1.0</td>\n",
              "      <td>1.0</td>\n",
              "    </tr>\n",
              "    <tr>\n",
              "      <th>has_superstructure_bamboo</th>\n",
              "      <td>0.080484</td>\n",
              "      <td>0.272040</td>\n",
              "      <td>0.0</td>\n",
              "      <td>0.0</td>\n",
              "      <td>0.0</td>\n",
              "      <td>0.0</td>\n",
              "      <td>1.0</td>\n",
              "    </tr>\n",
              "    <tr>\n",
              "      <th>has_superstructure_rc_non_engineered</th>\n",
              "      <td>0.039794</td>\n",
              "      <td>0.195476</td>\n",
              "      <td>0.0</td>\n",
              "      <td>0.0</td>\n",
              "      <td>0.0</td>\n",
              "      <td>0.0</td>\n",
              "      <td>1.0</td>\n",
              "    </tr>\n",
              "    <tr>\n",
              "      <th>has_superstructure_rc_engineered</th>\n",
              "      <td>0.016386</td>\n",
              "      <td>0.126956</td>\n",
              "      <td>0.0</td>\n",
              "      <td>0.0</td>\n",
              "      <td>0.0</td>\n",
              "      <td>0.0</td>\n",
              "      <td>1.0</td>\n",
              "    </tr>\n",
              "    <tr>\n",
              "      <th>has_superstructure_other</th>\n",
              "      <td>0.012026</td>\n",
              "      <td>0.109002</td>\n",
              "      <td>0.0</td>\n",
              "      <td>0.0</td>\n",
              "      <td>0.0</td>\n",
              "      <td>0.0</td>\n",
              "      <td>1.0</td>\n",
              "    </tr>\n",
              "  </tbody>\n",
              "</table>\n",
              "</div>\n",
              "      <button class=\"colab-df-convert\" onclick=\"convertToInteractive('df-13601be2-0b40-4f1b-a315-ea89b4500db6')\"\n",
              "              title=\"Convert this dataframe to an interactive table.\"\n",
              "              style=\"display:none;\">\n",
              "        \n",
              "  <svg xmlns=\"http://www.w3.org/2000/svg\" height=\"24px\"viewBox=\"0 0 24 24\"\n",
              "       width=\"24px\">\n",
              "    <path d=\"M0 0h24v24H0V0z\" fill=\"none\"/>\n",
              "    <path d=\"M18.56 5.44l.94 2.06.94-2.06 2.06-.94-2.06-.94-.94-2.06-.94 2.06-2.06.94zm-11 1L8.5 8.5l.94-2.06 2.06-.94-2.06-.94L8.5 2.5l-.94 2.06-2.06.94zm10 10l.94 2.06.94-2.06 2.06-.94-2.06-.94-.94-2.06-.94 2.06-2.06.94z\"/><path d=\"M17.41 7.96l-1.37-1.37c-.4-.4-.92-.59-1.43-.59-.52 0-1.04.2-1.43.59L10.3 9.45l-7.72 7.72c-.78.78-.78 2.05 0 2.83L4 21.41c.39.39.9.59 1.41.59.51 0 1.02-.2 1.41-.59l7.78-7.78 2.81-2.81c.8-.78.8-2.07 0-2.86zM5.41 20L4 18.59l7.72-7.72 1.47 1.35L5.41 20z\"/>\n",
              "  </svg>\n",
              "      </button>\n",
              "      \n",
              "  <style>\n",
              "    .colab-df-container {\n",
              "      display:flex;\n",
              "      flex-wrap:wrap;\n",
              "      gap: 12px;\n",
              "    }\n",
              "\n",
              "    .colab-df-convert {\n",
              "      background-color: #E8F0FE;\n",
              "      border: none;\n",
              "      border-radius: 50%;\n",
              "      cursor: pointer;\n",
              "      display: none;\n",
              "      fill: #1967D2;\n",
              "      height: 32px;\n",
              "      padding: 0 0 0 0;\n",
              "      width: 32px;\n",
              "    }\n",
              "\n",
              "    .colab-df-convert:hover {\n",
              "      background-color: #E2EBFA;\n",
              "      box-shadow: 0px 1px 2px rgba(60, 64, 67, 0.3), 0px 1px 3px 1px rgba(60, 64, 67, 0.15);\n",
              "      fill: #174EA6;\n",
              "    }\n",
              "\n",
              "    [theme=dark] .colab-df-convert {\n",
              "      background-color: #3B4455;\n",
              "      fill: #D2E3FC;\n",
              "    }\n",
              "\n",
              "    [theme=dark] .colab-df-convert:hover {\n",
              "      background-color: #434B5C;\n",
              "      box-shadow: 0px 1px 3px 1px rgba(0, 0, 0, 0.15);\n",
              "      filter: drop-shadow(0px 1px 2px rgba(0, 0, 0, 0.3));\n",
              "      fill: #FFFFFF;\n",
              "    }\n",
              "  </style>\n",
              "\n",
              "      <script>\n",
              "        const buttonEl =\n",
              "          document.querySelector('#df-13601be2-0b40-4f1b-a315-ea89b4500db6 button.colab-df-convert');\n",
              "        buttonEl.style.display =\n",
              "          google.colab.kernel.accessAllowed ? 'block' : 'none';\n",
              "\n",
              "        async function convertToInteractive(key) {\n",
              "          const element = document.querySelector('#df-13601be2-0b40-4f1b-a315-ea89b4500db6');\n",
              "          const dataTable =\n",
              "            await google.colab.kernel.invokeFunction('convertToInteractive',\n",
              "                                                     [key], {});\n",
              "          if (!dataTable) return;\n",
              "\n",
              "          const docLinkHtml = 'Like what you see? Visit the ' +\n",
              "            '<a target=\"_blank\" href=https://colab.research.google.com/notebooks/data_table.ipynb>data table notebook</a>'\n",
              "            + ' to learn more about interactive tables.';\n",
              "          element.innerHTML = '';\n",
              "          dataTable['output_type'] = 'display_data';\n",
              "          await google.colab.output.renderOutput(dataTable, element);\n",
              "          const docLink = document.createElement('div');\n",
              "          docLink.innerHTML = docLinkHtml;\n",
              "          element.appendChild(docLink);\n",
              "        }\n",
              "      </script>\n",
              "    </div>\n",
              "  </div>\n",
              "  "
            ]
          },
          "metadata": {},
          "execution_count": 81
        }
      ]
    },
    {
      "cell_type": "code",
      "source": [
        "df_stru.drop(['net_rooms', 'net_height'], axis = 1, inplace = True) "
      ],
      "metadata": {
        "id": "XPotpTHjmduX"
      },
      "execution_count": null,
      "outputs": []
    },
    {
      "cell_type": "code",
      "source": [
        "display(df_stru.columns)"
      ],
      "metadata": {
        "colab": {
          "base_uri": "https://localhost:8080/",
          "height": 243
        },
        "id": "oMSKmqj8lwmJ",
        "outputId": "505a10e6-4edf-4eb9-848e-167b9a8ebbe6"
      },
      "execution_count": 64,
      "outputs": [
        {
          "output_type": "display_data",
          "data": {
            "text/plain": [
              "Index(['district_id', 'vdcmun_id', 'ward_id', 'count_floors_pre_eq',\n",
              "       'count_floors_post_eq', 'age_building', 'plinth_area_sq_ft',\n",
              "       'height_ft_pre_eq', 'height_ft_post_eq', 'land_surface_condition',\n",
              "       'foundation_type', 'roof_type', 'ground_floor_type', 'other_floor_type',\n",
              "       'position', 'plan_configuration', 'has_superstructure_adobe_mud',\n",
              "       'has_superstructure_mud_mortar_stone', 'has_superstructure_stone_flag',\n",
              "       'has_superstructure_cement_mortar_stone',\n",
              "       'has_superstructure_mud_mortar_brick',\n",
              "       'has_superstructure_cement_mortar_brick', 'has_superstructure_timber',\n",
              "       'has_superstructure_bamboo', 'has_superstructure_rc_non_engineered',\n",
              "       'has_superstructure_rc_engineered', 'has_superstructure_other',\n",
              "       'condition_post_eq', 'damage_grade', 'technical_solution_proposed'],\n",
              "      dtype='object')"
            ]
          },
          "metadata": {}
        }
      ]
    },
    {
      "cell_type": "code",
      "source": [],
      "metadata": {
        "id": "uUEHNpXInP8r"
      },
      "execution_count": null,
      "outputs": []
    },
    {
      "cell_type": "code",
      "source": [],
      "metadata": {
        "id": "kaxBIHqAcFp1"
      },
      "execution_count": 53,
      "outputs": []
    },
    {
      "cell_type": "code",
      "source": [
        "# Create training and testing data\n",
        "x_train, x_test, y_train, y_test = train_test_split(df_stru.drop('damage_grade', axis = 1), \n",
        "                                                    df_stru['damage_grade'],\n",
        "                                                    test_size = 0.2, \n",
        "                                                    random_state = 1989, \n",
        "                                                    stratify = df_stru['damage_grade'],\n",
        "                                                    shuffle=True)\n",
        "\n",
        "\n",
        "# Visualise proportions on train and test\n",
        "pd.merge(y_train.reset_index(name=\"damage_grade\").damage_grade.value_counts(normalize = True).reset_index(name=\"train\"),\n",
        "         y_test.reset_index(name=\"damage_grade\").damage_grade.value_counts(normalize = True).reset_index(name=\"test\"),\n",
        "         on = \"index\",\n",
        "         how = \"left\")"
      ],
      "metadata": {
        "colab": {
          "base_uri": "https://localhost:8080/",
          "height": 206
        },
        "id": "ql_RBMn5cIm1",
        "outputId": "68771cb0-61cd-42bd-f61d-12f2f3322f64"
      },
      "execution_count": 82,
      "outputs": [
        {
          "output_type": "execute_result",
          "data": {
            "text/plain": [
              "     index     train      test\n",
              "0  Grade 5  0.361853  0.361851\n",
              "1  Grade 4  0.241235  0.241236\n",
              "2  Grade 3  0.178995  0.179000\n",
              "3  Grade 2  0.114497  0.114494\n",
              "4  Grade 1  0.103419  0.103419"
            ],
            "text/html": [
              "\n",
              "  <div id=\"df-7b561ef6-89ab-4faa-822c-001b50d423c1\">\n",
              "    <div class=\"colab-df-container\">\n",
              "      <div>\n",
              "<style scoped>\n",
              "    .dataframe tbody tr th:only-of-type {\n",
              "        vertical-align: middle;\n",
              "    }\n",
              "\n",
              "    .dataframe tbody tr th {\n",
              "        vertical-align: top;\n",
              "    }\n",
              "\n",
              "    .dataframe thead th {\n",
              "        text-align: right;\n",
              "    }\n",
              "</style>\n",
              "<table border=\"1\" class=\"dataframe\">\n",
              "  <thead>\n",
              "    <tr style=\"text-align: right;\">\n",
              "      <th></th>\n",
              "      <th>index</th>\n",
              "      <th>train</th>\n",
              "      <th>test</th>\n",
              "    </tr>\n",
              "  </thead>\n",
              "  <tbody>\n",
              "    <tr>\n",
              "      <th>0</th>\n",
              "      <td>Grade 5</td>\n",
              "      <td>0.361853</td>\n",
              "      <td>0.361851</td>\n",
              "    </tr>\n",
              "    <tr>\n",
              "      <th>1</th>\n",
              "      <td>Grade 4</td>\n",
              "      <td>0.241235</td>\n",
              "      <td>0.241236</td>\n",
              "    </tr>\n",
              "    <tr>\n",
              "      <th>2</th>\n",
              "      <td>Grade 3</td>\n",
              "      <td>0.178995</td>\n",
              "      <td>0.179000</td>\n",
              "    </tr>\n",
              "    <tr>\n",
              "      <th>3</th>\n",
              "      <td>Grade 2</td>\n",
              "      <td>0.114497</td>\n",
              "      <td>0.114494</td>\n",
              "    </tr>\n",
              "    <tr>\n",
              "      <th>4</th>\n",
              "      <td>Grade 1</td>\n",
              "      <td>0.103419</td>\n",
              "      <td>0.103419</td>\n",
              "    </tr>\n",
              "  </tbody>\n",
              "</table>\n",
              "</div>\n",
              "      <button class=\"colab-df-convert\" onclick=\"convertToInteractive('df-7b561ef6-89ab-4faa-822c-001b50d423c1')\"\n",
              "              title=\"Convert this dataframe to an interactive table.\"\n",
              "              style=\"display:none;\">\n",
              "        \n",
              "  <svg xmlns=\"http://www.w3.org/2000/svg\" height=\"24px\"viewBox=\"0 0 24 24\"\n",
              "       width=\"24px\">\n",
              "    <path d=\"M0 0h24v24H0V0z\" fill=\"none\"/>\n",
              "    <path d=\"M18.56 5.44l.94 2.06.94-2.06 2.06-.94-2.06-.94-.94-2.06-.94 2.06-2.06.94zm-11 1L8.5 8.5l.94-2.06 2.06-.94-2.06-.94L8.5 2.5l-.94 2.06-2.06.94zm10 10l.94 2.06.94-2.06 2.06-.94-2.06-.94-.94-2.06-.94 2.06-2.06.94z\"/><path d=\"M17.41 7.96l-1.37-1.37c-.4-.4-.92-.59-1.43-.59-.52 0-1.04.2-1.43.59L10.3 9.45l-7.72 7.72c-.78.78-.78 2.05 0 2.83L4 21.41c.39.39.9.59 1.41.59.51 0 1.02-.2 1.41-.59l7.78-7.78 2.81-2.81c.8-.78.8-2.07 0-2.86zM5.41 20L4 18.59l7.72-7.72 1.47 1.35L5.41 20z\"/>\n",
              "  </svg>\n",
              "      </button>\n",
              "      \n",
              "  <style>\n",
              "    .colab-df-container {\n",
              "      display:flex;\n",
              "      flex-wrap:wrap;\n",
              "      gap: 12px;\n",
              "    }\n",
              "\n",
              "    .colab-df-convert {\n",
              "      background-color: #E8F0FE;\n",
              "      border: none;\n",
              "      border-radius: 50%;\n",
              "      cursor: pointer;\n",
              "      display: none;\n",
              "      fill: #1967D2;\n",
              "      height: 32px;\n",
              "      padding: 0 0 0 0;\n",
              "      width: 32px;\n",
              "    }\n",
              "\n",
              "    .colab-df-convert:hover {\n",
              "      background-color: #E2EBFA;\n",
              "      box-shadow: 0px 1px 2px rgba(60, 64, 67, 0.3), 0px 1px 3px 1px rgba(60, 64, 67, 0.15);\n",
              "      fill: #174EA6;\n",
              "    }\n",
              "\n",
              "    [theme=dark] .colab-df-convert {\n",
              "      background-color: #3B4455;\n",
              "      fill: #D2E3FC;\n",
              "    }\n",
              "\n",
              "    [theme=dark] .colab-df-convert:hover {\n",
              "      background-color: #434B5C;\n",
              "      box-shadow: 0px 1px 3px 1px rgba(0, 0, 0, 0.15);\n",
              "      filter: drop-shadow(0px 1px 2px rgba(0, 0, 0, 0.3));\n",
              "      fill: #FFFFFF;\n",
              "    }\n",
              "  </style>\n",
              "\n",
              "      <script>\n",
              "        const buttonEl =\n",
              "          document.querySelector('#df-7b561ef6-89ab-4faa-822c-001b50d423c1 button.colab-df-convert');\n",
              "        buttonEl.style.display =\n",
              "          google.colab.kernel.accessAllowed ? 'block' : 'none';\n",
              "\n",
              "        async function convertToInteractive(key) {\n",
              "          const element = document.querySelector('#df-7b561ef6-89ab-4faa-822c-001b50d423c1');\n",
              "          const dataTable =\n",
              "            await google.colab.kernel.invokeFunction('convertToInteractive',\n",
              "                                                     [key], {});\n",
              "          if (!dataTable) return;\n",
              "\n",
              "          const docLinkHtml = 'Like what you see? Visit the ' +\n",
              "            '<a target=\"_blank\" href=https://colab.research.google.com/notebooks/data_table.ipynb>data table notebook</a>'\n",
              "            + ' to learn more about interactive tables.';\n",
              "          element.innerHTML = '';\n",
              "          dataTable['output_type'] = 'display_data';\n",
              "          await google.colab.output.renderOutput(dataTable, element);\n",
              "          const docLink = document.createElement('div');\n",
              "          docLink.innerHTML = docLinkHtml;\n",
              "          element.appendChild(docLink);\n",
              "        }\n",
              "      </script>\n",
              "    </div>\n",
              "  </div>\n",
              "  "
            ]
          },
          "metadata": {},
          "execution_count": 82
        }
      ]
    },
    {
      "cell_type": "code",
      "source": [
        "# ------------ Target Processing ------------\n",
        "\n",
        "# Target Variable Transformer\n",
        "preprocessor_tar = LabelEncoder()\n",
        "y_train = preprocessor_tar.fit_transform(y_train)\n",
        "y_test = preprocessor_tar.fit_transform(y_test)\n",
        "\n",
        "# Visualise Counts\n",
        "pd.DataFrame(y_train).value_counts(normalize = True)\n",
        "\n",
        "# Clean objects\n",
        "del preprocessor_tar"
      ],
      "metadata": {
        "id": "enRvUmiRcLYg"
      },
      "execution_count": 83,
      "outputs": []
    },
    {
      "cell_type": "code",
      "source": [
        "# Print x train shape before processing\n",
        "print(\"Before preprocessing there were {} rows and {} columns\".format(*x_train.shape))\n",
        "\n",
        "# ------------ Predictor Processing ------------\n",
        "# Identify columns\n",
        "fts_cvt_obj = ['district_id', 'vdcmun_id', 'ward_id']\n",
        "fts_outlier = ['age_building']\n",
        "fts_cat = df_stru.drop(fts_cvt_obj, axis = 1).select_dtypes(include=['object']).drop('damage_grade', axis = 1).columns\n",
        "fts_num = df_stru.select_dtypes(np.number).columns\n",
        "\n",
        "# Convert to object Transformer\n",
        "def covert_to_object(x):\n",
        "    '''Converts a column to object'''\n",
        "    return pd.DataFrame(x).astype(object)\n",
        "trans_to_object = Pipeline(steps = [('convert_to_object', FunctionTransformer(covert_to_object))])\n",
        "\n",
        "# Outlier Restriction\n",
        "trans_outlier = Pipeline(steps = [('Outlier_scaler', RobustScaler(quantile_range = (0,0.9)))])\n",
        "\n",
        "# Categorical Transformer\n",
        "trans_cat = Pipeline(steps = [('onehot', OneHotEncoder(handle_unknown='ignore'))])\n",
        "\n",
        "# Numerical Transformer\n",
        "trans_num = Pipeline(steps = [('scaler', StandardScaler()),\n",
        "                              ('MinMax', MinMaxScaler())])\n",
        "\n",
        "# Zero or Near Zero variance\n",
        "trans_nzv = Pipeline(steps = [('nzv', VarianceThreshold(threshold = 0.01))])\n",
        "\n",
        "# Create a single Preprocessing step for predictors\n",
        "preprocessor_preds = ColumnTransformer(\n",
        "    transformers=[\n",
        "        ('convert_to_object', trans_to_object, fts_cvt_obj), # Convert data types\n",
        "        ('Outlier', trans_outlier, fts_outlier), # Outlier treatment \n",
        "        ('num', trans_num, fts_num), # Centre and scale\n",
        "        ('cat', trans_cat, fts_cat), # One Hot encode\n",
        "        ('nzv', trans_nzv,[]) # One Hot encode\n",
        "    ])\n",
        "      \n",
        "# Apply the transformations to both train and test\n",
        "x_train = preprocessor_preds.fit_transform(x_train)\n",
        "x_test = preprocessor_preds.fit_transform(x_test)   \n",
        "\n",
        "# Print x train shape before processing\n",
        "print(\"After preprocessing there are {} rows and {} columns\".format(*x_train.shape))\n",
        "\n",
        "# Clean objects\n",
        "del fts_cvt_obj, fts_outlier, fts_cat, fts_num, covert_to_object, trans_to_object, trans_outlier, trans_cat, trans_num, trans_nzv"
      ],
      "metadata": {
        "colab": {
          "base_uri": "https://localhost:8080/"
        },
        "id": "FwiYFcAtcOOF",
        "outputId": "0aa622dd-31cd-49df-f6bb-5b78d4573ab2"
      },
      "execution_count": 84,
      "outputs": [
        {
          "output_type": "stream",
          "name": "stdout",
          "text": [
            "Before preprocessing there were 609675 rows and 29 columns\n",
            "After preprocessing there are 609675 rows and 67 columns\n"
          ]
        }
      ]
    },
    {
      "cell_type": "code",
      "source": [
        "# Store the Kfold object\n",
        "kfold = KFold(n_splits=5, random_state=1989, shuffle = True)"
      ],
      "metadata": {
        "id": "hfCk85kMcU25"
      },
      "execution_count": 87,
      "outputs": []
    },
    {
      "cell_type": "code",
      "source": [
        "!pip install xlsxwriter"
      ],
      "metadata": {
        "colab": {
          "base_uri": "https://localhost:8080/"
        },
        "id": "frsaimd_sIJk",
        "outputId": "a2ad3806-e7ce-44bc-c250-ad925c37371b"
      },
      "execution_count": 93,
      "outputs": [
        {
          "output_type": "stream",
          "name": "stdout",
          "text": [
            "Looking in indexes: https://pypi.org/simple, https://us-python.pkg.dev/colab-wheels/public/simple/\n",
            "Collecting xlsxwriter\n",
            "  Downloading XlsxWriter-3.0.8-py3-none-any.whl (152 kB)\n",
            "\u001b[2K     \u001b[90m━━━━━━━━━━━━━━━━━━━━━━━━━━━━━━━━━━━━━━━\u001b[0m \u001b[32m152.8/152.8 KB\u001b[0m \u001b[31m4.6 MB/s\u001b[0m eta \u001b[36m0:00:00\u001b[0m\n",
            "\u001b[?25hInstalling collected packages: xlsxwriter\n",
            "Successfully installed xlsxwriter-3.0.8\n"
          ]
        }
      ]
    },
    {
      "cell_type": "code",
      "source": [
        "# Build the random forest on the full training data\n",
        "rf = RandomForestClassifier() # instance\n",
        "rf.fit(x_train, y_train) # fit model\n",
        "y_pred = rf.predict(x_test) # predict on test\n",
        "\n",
        "# Calculate confusion matrix\n",
        "con_mat = confusion_matrix(y_test, y_pred)\n",
        "con_mat = con_mat / con_mat.astype(np.float).sum(axis=1)\n",
        "\n",
        "\n",
        "print('Test Accuracy of random forest Model: ',round(100*rf.score(x_test, y_test),2),'%')\n",
        "print('')\n",
        "print('Train Accuracy of random forest Model: ',round(100*rf.score(x_train, y_train),2),'%')\n",
        "print('')\n",
        "\n",
        "# Evaluate model\n",
        "\n",
        "print('Mean Squared Error (MSE): ',round(np.sqrt(mean_squared_error(y_test,y_pred)),4))\n",
        "\n",
        "\n",
        "# Plot Model\n",
        "plt.figure(figsize = (12,6))\n",
        "ax = sns.heatmap(con_mat, annot = True)\n",
        "plt.title(\"Confusion Matrix\")\n",
        "plt.show()\n",
        "\n",
        "y_test_data = pd.DataFrame(y_test)\n",
        "writer = pd.ExcelWriter(\"y-test-RF.xlsx\", engine='xlsxwriter')\n",
        "y_test_data.to_excel(writer,sheet_name = \"sheet1_actual_data\", index=False)\n",
        "writer.save()\n",
        "\n",
        "y_pred_data = pd.DataFrame(y_pred)\n",
        "writer = pd.ExcelWriter(\"y_pred_RF.xlsx\", engine='xlsxwriter')\n",
        "y_pred_data.to_excel(writer,sheet_name = \"sheet1_actual_data\", index=False)\n",
        "writer.save()"
      ],
      "metadata": {
        "colab": {
          "base_uri": "https://localhost:8080/",
          "height": 550
        },
        "id": "IovrBS1ncXP2",
        "outputId": "c936ce66-9125-4bc6-d867-00f0d0ae36be"
      },
      "execution_count": 94,
      "outputs": [
        {
          "output_type": "stream",
          "name": "stderr",
          "text": [
            "<ipython-input-94-e9032cb496fd>:8: DeprecationWarning: `np.float` is a deprecated alias for the builtin `float`. To silence this warning, use `float` by itself. Doing this will not modify any behavior and is safe. If you specifically wanted the numpy scalar type, use `np.float64` here.\n",
            "Deprecated in NumPy 1.20; for more details and guidance: https://numpy.org/devdocs/release/1.20.0-notes.html#deprecations\n",
            "  con_mat = con_mat / con_mat.astype(np.float).sum(axis=1)\n"
          ]
        },
        {
          "output_type": "stream",
          "name": "stdout",
          "text": [
            "Test Accuracy of random forest Model:  89.7 %\n",
            "\n",
            "Train Accuracy of random forest Model:  99.82 %\n",
            "\n",
            "Mean Squared Error (MSE):  0.3401\n"
          ]
        },
        {
          "output_type": "display_data",
          "data": {
            "text/plain": [
              "<Figure size 864x432 with 2 Axes>"
            ],
            "image/png": "[encoded data removed]"
          },
          "metadata": {}
        }
      ]
    },
    {
      "cell_type": "code",
      "source": [
        "#ElacticNet Regression\n",
        "\n",
        "from sklearn.model_selection import train_test_split\n",
        "from sklearn.linear_model import ElasticNet\n",
        "reg=ElasticNet(alpha=0.001,l1_ratio=1,max_iter=1000000,tol=0.01)\n",
        "reg.fit(x_train, y_train)\n",
        "print('Test Accuracy of ElasticNet Model: ',round(100*reg.score(x_test, y_test),2),'%')\n",
        "print('')\n",
        "print('Train Accuracy of ElasticNet Model: ',round(100*reg.score(x_train, y_train),2),'%')\n",
        "print('')\n",
        "y_pred=reg.predict(x_test)\n",
        "\n",
        "print('Mean Squared Error (MSE): ',round(np.sqrt(mean_squared_error(y_test,y_pred)),4))\n",
        "\n",
        "\n",
        "y_pred_data = pd.DataFrame(y_pred)\n",
        "writer = pd.ExcelWriter(\"y_pred_Elactic.xlsx\", engine='xlsxwriter')\n",
        "y_pred_data.to_excel(writer,sheet_name = \"sheet1_actual_data\", index=False)\n",
        "writer.save()"
      ],
      "metadata": {
        "colab": {
          "base_uri": "https://localhost:8080/"
        },
        "id": "3gqNdDyfjxBX",
        "outputId": "d259e7be-4239-4480-c1f9-d19d99a22c4c"
      },
      "execution_count": 95,
      "outputs": [
        {
          "output_type": "stream",
          "name": "stdout",
          "text": [
            "Test Accuracy of ElasticNet Model:  92.57 %\n",
            "\n",
            "Train Accuracy of ElasticNet Model:  92.68 %\n",
            "\n",
            "Mean Squared Error (MSE):  0.366\n"
          ]
        }
      ]
    },
    {
      "cell_type": "code",
      "source": [
        "from sklearn.tree import DecisionTreeRegressor\n",
        "from sklearn.model_selection import train_test_split\n",
        "reg=DecisionTreeRegressor()\n",
        "reg.fit(x_train, y_train)\n",
        "print('Test Accuracy of DecisionTree Regression: ',round(100*reg.score(x_test, y_test),2),'%')\n",
        "print('')\n",
        "print('Train Accuracy of DecisionTree Regression:',round(100*reg.score(x_train, y_train),2),'%')\n",
        "print('')\n",
        "y_pred=reg.predict(x_test)\n",
        "print('Mean Squared Error (MSE): ',round(np.sqrt(mean_squared_error(y_test,y_pred)),4))\n",
        "\n",
        "\n",
        "y_pred_data = pd.DataFrame(y_pred)\n",
        "writer = pd.ExcelWriter(\"y_pred_DT.xlsx\", engine='xlsxwriter')\n",
        "y_pred_data.to_excel(writer,sheet_name = \"sheet1_actual_data\", index=False)\n",
        "writer.save()"
      ],
      "metadata": {
        "colab": {
          "base_uri": "https://localhost:8080/"
        },
        "id": "aJvhi8MYk_NI",
        "outputId": "cb842ab7-4d63-45c3-98dd-91a41688967c"
      },
      "execution_count": 97,
      "outputs": [
        {
          "output_type": "stream",
          "name": "stdout",
          "text": [
            "Test Accuracy of DecisionTree Regression:  90.86 %\n",
            "\n",
            "Train Accuracy of DecisionTree Regression: 99.94 %\n",
            "\n",
            "Mean Squared Error (MSE):  0.4058\n"
          ]
        }
      ]
    },
    {
      "cell_type": "code",
      "source": [],
      "metadata": {
        "id": "uLlIZ5MVtdUD"
      },
      "execution_count": null,
      "outputs": []
    }
  ]
}